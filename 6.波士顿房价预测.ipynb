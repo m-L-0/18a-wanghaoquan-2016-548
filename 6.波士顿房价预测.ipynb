{
 "cells": [
  {
   "cell_type": "code",
   "execution_count": 1,
   "metadata": {},
   "outputs": [
    {
     "name": "stderr",
     "output_type": "stream",
     "text": [
      "C:\\Users\\abc\\Anaconda3\\lib\\site-packages\\h5py\\__init__.py:36: FutureWarning: Conversion of the second argument of issubdtype from `float` to `np.floating` is deprecated. In future, it will be treated as `np.float64 == np.dtype(float).type`.\n",
      "  from ._conv import register_converters as _register_converters\n"
     ]
    }
   ],
   "source": [
    "import numpy as np\n",
    "import tensorflow as tf"
   ]
  },
  {
   "cell_type": "code",
   "execution_count": 2,
   "metadata": {},
   "outputs": [
    {
     "name": "stdout",
     "output_type": "stream",
     "text": [
      "Downloading data from https://storage.googleapis.com/tensorflow/tf-keras-datasets/boston_housing.npz\n",
      "57344/57026 [==============================] - 3s 56us/step\n"
     ]
    }
   ],
   "source": [
    "(train_data, train_label), (test_data, test_label) =\\\n",
    "    tf.keras.datasets.boston_housing.load_data()"
   ]
  },
  {
   "cell_type": "code",
   "execution_count": 3,
   "metadata": {},
   "outputs": [
    {
     "data": {
      "text/plain": [
       "(404, 13)"
      ]
     },
     "execution_count": 3,
     "metadata": {},
     "output_type": "execute_result"
    }
   ],
   "source": [
    "train_data.shape"
   ]
  },
  {
   "cell_type": "code",
   "execution_count": 4,
   "metadata": {},
   "outputs": [
    {
     "data": {
      "text/plain": [
       "(404,)"
      ]
     },
     "execution_count": 4,
     "metadata": {},
     "output_type": "execute_result"
    }
   ],
   "source": [
    "train_label.shape"
   ]
  },
  {
   "cell_type": "code",
   "execution_count": 5,
   "metadata": {},
   "outputs": [
    {
     "name": "stdout",
     "output_type": "stream",
     "text": [
      "epoch   0, train loss 141.2488, val loss 366.2759\n",
      "epoch   1, train loss 151.9014, val loss 108.1299\n",
      "epoch   2, train loss 93.5725, val loss 108.3270\n",
      "epoch   3, train loss 116.1457, val loss 104.0837\n",
      "epoch   4, train loss 110.2064, val loss 97.7272\n",
      "epoch   5, train loss 119.8154, val loss 99.4691\n",
      "epoch   6, train loss 85.2448, val loss 96.7799\n",
      "epoch   7, train loss 157.5112, val loss 99.7140\n",
      "epoch   8, train loss 90.5988, val loss 97.7440\n",
      "epoch   9, train loss 91.4666, val loss 99.8575\n",
      "epoch  10, train loss 80.4302, val loss 96.0985\n",
      "epoch  11, train loss 76.9817, val loss 97.7371\n",
      "epoch  12, train loss 25.1783, val loss 96.4811\n",
      "epoch  13, train loss 85.2360, val loss 95.1663\n",
      "epoch  14, train loss 109.9251, val loss 96.8820\n",
      "epoch  15, train loss 110.4627, val loss 96.4791\n",
      "epoch  16, train loss 134.0207, val loss 94.4066\n",
      "epoch  17, train loss 107.9497, val loss 92.6885\n",
      "epoch  18, train loss 63.3234, val loss 92.6678\n",
      "epoch  19, train loss 105.1525, val loss 96.9477\n",
      "epoch  20, train loss 99.9547, val loss 93.5104\n",
      "epoch  21, train loss 71.8769, val loss 87.8409\n",
      "epoch  22, train loss 103.4177, val loss 93.8189\n",
      "epoch  23, train loss 108.6565, val loss 93.8588\n",
      "epoch  24, train loss 105.2895, val loss 92.9598\n",
      "epoch  25, train loss 80.5872, val loss 97.2042\n",
      "epoch  26, train loss 105.1198, val loss 88.0514\n",
      "epoch  27, train loss 121.8136, val loss 92.2437\n",
      "epoch  28, train loss 116.1515, val loss 94.5944\n",
      "epoch  29, train loss 111.9165, val loss 90.1704\n",
      "epoch  30, train loss 75.8313, val loss 88.7742\n",
      "epoch  31, train loss 113.8923, val loss 93.7668\n",
      "epoch  32, train loss 60.9954, val loss 92.9295\n",
      "epoch  33, train loss 96.0930, val loss 94.6502\n",
      "epoch  34, train loss 71.4311, val loss 92.2439\n",
      "epoch  35, train loss 69.0190, val loss 93.0813\n",
      "epoch  36, train loss 72.8927, val loss 93.1896\n",
      "epoch  37, train loss 118.5988, val loss 89.8316\n",
      "epoch  38, train loss 95.3567, val loss 92.7126\n",
      "epoch  39, train loss 113.4998, val loss 89.7871\n",
      "epoch  40, train loss 98.1964, val loss 89.5850\n",
      "epoch  41, train loss 66.0776, val loss 92.5283\n",
      "epoch  42, train loss 117.9096, val loss 87.1943\n",
      "epoch  43, train loss 98.6776, val loss 88.6808\n",
      "epoch  44, train loss 94.6650, val loss 93.7279\n",
      "epoch  45, train loss 125.0202, val loss 90.8229\n",
      "epoch  46, train loss 40.4720, val loss 91.5275\n",
      "epoch  47, train loss 72.0241, val loss 93.1336\n",
      "epoch  48, train loss 70.6684, val loss 92.0432\n",
      "epoch  49, train loss 117.1741, val loss 92.1978\n",
      "epoch  50, train loss 94.0763, val loss 85.7811\n",
      "epoch  51, train loss 106.3313, val loss 91.2327\n",
      "epoch  52, train loss 68.3646, val loss 89.7722\n",
      "epoch  53, train loss 77.4647, val loss 91.6889\n",
      "epoch  54, train loss 122.4593, val loss 83.2641\n",
      "epoch  55, train loss 52.8380, val loss 90.6252\n",
      "epoch  56, train loss 120.8820, val loss 92.5877\n",
      "epoch  57, train loss 77.2310, val loss 90.9530\n",
      "epoch  58, train loss 92.7999, val loss 90.3950\n",
      "epoch  59, train loss 76.2336, val loss 92.1708\n",
      "epoch  60, train loss 99.4730, val loss 92.7925\n",
      "epoch  61, train loss 99.1693, val loss 91.5067\n",
      "epoch  62, train loss 87.0258, val loss 92.8091\n",
      "epoch  63, train loss 162.9199, val loss 89.5919\n",
      "epoch  64, train loss 85.8170, val loss 91.6290\n",
      "epoch  65, train loss 79.2067, val loss 94.1751\n",
      "epoch  66, train loss 48.5716, val loss 89.7462\n",
      "epoch  67, train loss 64.2362, val loss 88.6000\n",
      "epoch  68, train loss 127.4546, val loss 90.2922\n",
      "epoch  69, train loss 90.9930, val loss 89.1609\n",
      "epoch  70, train loss 69.9547, val loss 91.3491\n",
      "epoch  71, train loss 107.0445, val loss 91.1311\n",
      "epoch  72, train loss 69.0633, val loss 91.0837\n",
      "epoch  73, train loss 56.4575, val loss 92.6728\n",
      "epoch  74, train loss 59.7013, val loss 89.4220\n",
      "epoch  75, train loss 80.4271, val loss 90.3705\n",
      "epoch  76, train loss 52.9492, val loss 90.6626\n",
      "epoch  77, train loss 86.1431, val loss 90.3455\n",
      "epoch  78, train loss 105.4455, val loss 92.8400\n",
      "epoch  79, train loss 118.4295, val loss 91.9626\n",
      "epoch  80, train loss 99.5828, val loss 91.9755\n",
      "epoch  81, train loss 61.0073, val loss 90.5173\n",
      "epoch  82, train loss 135.5724, val loss 91.3084\n",
      "epoch  83, train loss 42.5755, val loss 85.8334\n",
      "epoch  84, train loss 87.3182, val loss 91.4115\n",
      "epoch  85, train loss 50.6105, val loss 90.5131\n",
      "epoch  86, train loss 49.9225, val loss 89.2057\n",
      "epoch  87, train loss 89.0889, val loss 87.7708\n",
      "epoch  88, train loss 47.0473, val loss 92.1048\n",
      "epoch  89, train loss 63.0407, val loss 89.3535\n",
      "epoch  90, train loss 146.0614, val loss 88.0678\n",
      "epoch  91, train loss 117.5740, val loss 90.5160\n",
      "epoch  92, train loss 67.8395, val loss 91.3513\n",
      "epoch  93, train loss 76.1348, val loss 89.8820\n",
      "epoch  94, train loss 63.9971, val loss 87.0701\n",
      "epoch  95, train loss 115.7094, val loss 92.1806\n",
      "epoch  96, train loss 64.9578, val loss 91.1811\n",
      "epoch  97, train loss 82.2775, val loss 85.5922\n",
      "epoch  98, train loss 134.8441, val loss 91.8182\n",
      "epoch  99, train loss 82.5229, val loss 90.3381\n",
      "epoch 100, train loss 76.4723, val loss 89.3502\n",
      "epoch 101, train loss 128.7806, val loss 91.2424\n",
      "epoch 102, train loss 145.6196, val loss 87.2921\n",
      "epoch 103, train loss 93.9280, val loss 90.9061\n",
      "epoch 104, train loss 108.9705, val loss 89.8094\n",
      "epoch 105, train loss 113.6153, val loss 87.8415\n",
      "epoch 106, train loss 106.4387, val loss 88.7803\n",
      "epoch 107, train loss 96.8996, val loss 88.4345\n",
      "epoch 108, train loss 69.9568, val loss 86.2306\n",
      "epoch 109, train loss 103.4631, val loss 88.7113\n",
      "epoch 110, train loss 104.1825, val loss 88.2710\n",
      "epoch 111, train loss 156.7561, val loss 91.5268\n",
      "epoch 112, train loss 72.0274, val loss 90.4629\n",
      "epoch 113, train loss 129.7254, val loss 90.7512\n",
      "epoch 114, train loss 111.0896, val loss 89.5378\n",
      "epoch 115, train loss 81.2660, val loss 87.7134\n",
      "epoch 116, train loss 90.9222, val loss 87.5945\n",
      "epoch 117, train loss 78.3356, val loss 90.7329\n",
      "epoch 118, train loss 72.5354, val loss 89.9762\n",
      "epoch 119, train loss 103.1066, val loss 91.1583\n",
      "epoch 120, train loss 66.9536, val loss 90.6307\n",
      "epoch 121, train loss 107.1442, val loss 88.2201\n",
      "epoch 122, train loss 109.2081, val loss 91.0207\n",
      "epoch 123, train loss 84.3357, val loss 87.6718\n",
      "epoch 124, train loss 68.7166, val loss 87.2189\n",
      "epoch 125, train loss 72.2285, val loss 90.9243\n",
      "epoch 126, train loss 73.1520, val loss 88.5631\n",
      "epoch 127, train loss 74.2516, val loss 89.3304\n",
      "epoch 128, train loss 78.4430, val loss 90.5969\n",
      "epoch 129, train loss 128.1330, val loss 89.1874\n",
      "epoch 130, train loss 86.5366, val loss 90.2708\n",
      "epoch 131, train loss 38.7276, val loss 89.2750\n",
      "epoch 132, train loss 108.8663, val loss 84.8729\n",
      "epoch 133, train loss 87.7426, val loss 90.8832\n",
      "epoch 134, train loss 103.0443, val loss 85.9108\n",
      "epoch 135, train loss 79.6194, val loss 91.0198\n",
      "epoch 136, train loss 101.4743, val loss 90.4028\n",
      "epoch 137, train loss 82.9000, val loss 91.2477\n",
      "epoch 138, train loss 86.3776, val loss 90.6743\n",
      "epoch 139, train loss 100.4356, val loss 89.9965\n",
      "epoch 140, train loss 65.4431, val loss 91.4333\n",
      "epoch 141, train loss 129.5406, val loss 82.6854\n",
      "epoch 142, train loss 100.9924, val loss 92.3884\n",
      "epoch 143, train loss 126.2499, val loss 90.4657\n",
      "epoch 144, train loss 108.6663, val loss 88.6994\n",
      "epoch 145, train loss 113.2713, val loss 88.7392\n",
      "epoch 146, train loss 94.2186, val loss 89.8051\n",
      "epoch 147, train loss 130.8857, val loss 91.2121\n",
      "epoch 148, train loss 85.3473, val loss 90.7446\n",
      "epoch 149, train loss 60.4852, val loss 87.4289\n",
      "epoch 150, train loss 67.7958, val loss 86.2679\n",
      "epoch 151, train loss 115.4215, val loss 88.3643\n",
      "epoch 152, train loss 66.9093, val loss 88.1842\n",
      "epoch 153, train loss 35.2409, val loss 87.6963\n",
      "epoch 154, train loss 140.5507, val loss 91.1280\n",
      "epoch 155, train loss 69.6631, val loss 88.7066\n",
      "epoch 156, train loss 119.7165, val loss 88.9512\n",
      "epoch 157, train loss 136.4731, val loss 87.5266\n",
      "epoch 158, train loss 71.8871, val loss 86.6904\n",
      "epoch 159, train loss 56.9379, val loss 91.6660\n",
      "epoch 160, train loss 91.0502, val loss 85.3621\n",
      "epoch 161, train loss 65.4710, val loss 89.6459\n",
      "epoch 162, train loss 101.0092, val loss 89.6620\n",
      "epoch 163, train loss 66.9695, val loss 87.4457\n",
      "epoch 164, train loss 93.5687, val loss 91.2229\n",
      "epoch 165, train loss 90.5961, val loss 89.4365\n",
      "epoch 166, train loss 92.3916, val loss 92.3168\n",
      "epoch 167, train loss 92.0311, val loss 86.8929\n",
      "epoch 168, train loss 38.8726, val loss 91.5054\n",
      "epoch 169, train loss 139.7864, val loss 91.2601\n",
      "epoch 170, train loss 52.3900, val loss 88.8159\n",
      "epoch 171, train loss 78.7200, val loss 89.1028\n",
      "epoch 172, train loss 72.7096, val loss 90.6245\n",
      "epoch 173, train loss 65.2899, val loss 87.7589\n",
      "epoch 174, train loss 107.2783, val loss 92.2954\n",
      "epoch 175, train loss 101.3155, val loss 87.9448\n",
      "epoch 176, train loss 53.7760, val loss 87.8175\n",
      "epoch 177, train loss 142.0833, val loss 91.0307\n",
      "epoch 178, train loss 62.3851, val loss 87.6179\n",
      "epoch 179, train loss 91.1435, val loss 91.4065\n",
      "epoch 180, train loss 69.6666, val loss 88.6143\n"
     ]
    },
    {
     "name": "stdout",
     "output_type": "stream",
     "text": [
      "epoch 181, train loss 146.0493, val loss 90.3193\n",
      "epoch 182, train loss 102.1463, val loss 90.9790\n",
      "epoch 183, train loss 138.9193, val loss 86.4669\n",
      "epoch 184, train loss 135.5194, val loss 88.3676\n",
      "epoch 185, train loss 74.3050, val loss 90.8706\n",
      "epoch 186, train loss 36.9406, val loss 87.7837\n",
      "epoch 187, train loss 80.4465, val loss 87.3105\n",
      "epoch 188, train loss 87.5902, val loss 89.4183\n",
      "epoch 189, train loss 92.5756, val loss 86.7034\n",
      "epoch 190, train loss 101.2975, val loss 89.0317\n",
      "epoch 191, train loss 106.4153, val loss 89.3442\n",
      "epoch 192, train loss 119.3036, val loss 91.3298\n",
      "epoch 193, train loss 96.5568, val loss 91.1004\n",
      "epoch 194, train loss 96.8719, val loss 91.5894\n",
      "epoch 195, train loss 126.4408, val loss 89.2225\n",
      "epoch 196, train loss 79.5277, val loss 90.1074\n",
      "epoch 197, train loss 69.6324, val loss 92.9965\n",
      "epoch 198, train loss 87.7434, val loss 89.4522\n",
      "epoch 199, train loss 82.6850, val loss 89.9744\n"
     ]
    }
   ],
   "source": [
    "with tf.Graph().as_default() as g:\n",
    "    inputs = tf.placeholder(shape=[None, 13], dtype=tf.float32)\n",
    "    labels = tf.placeholder(shape=[None], dtype=tf.float32)\n",
    "    \n",
    "    h1 = tf.keras.layers.Dense(64, activation=tf.nn.relu)(inputs)\n",
    "    h2 = tf.keras.layers.Dense(16, activation=tf.nn.relu)(h1)\n",
    "    output = tf.keras.layers.Dense(1, activation=None)(h2)\n",
    "    \n",
    "    loss = tf.reduce_mean(\n",
    "        tf.keras.losses.mean_squared_error(labels, output))\n",
    "    \n",
    "    optim = tf.train.GradientDescentOptimizer(learning_rate=1e-6)\n",
    "    train_op = optim.minimize(loss)\n",
    "\n",
    "with tf.Session(graph=g) as sess:\n",
    "    sess.run(tf.global_variables_initializer())\n",
    "    batch_size= 32\n",
    "    for epoch in range(200):\n",
    "        order = np.argsort(np.random.random(train_label.shape))\n",
    "        train_data = train_data[order]\n",
    "        train_label = train_label[order]\n",
    "        \n",
    "        res_train_losses = []\n",
    "        for i in range(train_label.shape[0] // batch_size):\n",
    "            start = i * batch_size\n",
    "            end = (i + 1) * batch_size\n",
    "            res_train_loss, _ = sess.run([loss, train_op],\n",
    "                     feed_dict={inputs: train_data[start: end],\n",
    "                                labels: train_label[start: end]})\n",
    "            res_train_losses.append(res_train_loss)\n",
    "        res_val_loss = sess.run(loss,\n",
    "                 feed_dict={inputs: test_data,\n",
    "                            labels: test_label})\n",
    "        print('epoch %3d, train loss %2.4f, val loss %2.4f' %\n",
    "              (epoch, res_train_loss, np.mean(res_train_losses)))"
   ]
  },
  {
   "cell_type": "code",
   "execution_count": null,
   "metadata": {},
   "outputs": [],
   "source": []
  }
 ],
 "metadata": {
  "kernelspec": {
   "display_name": "Python 3",
   "language": "python",
   "name": "python3"
  },
  "language_info": {
   "codemirror_mode": {
    "name": "ipython",
    "version": 3
   },
   "file_extension": ".py",
   "mimetype": "text/x-python",
   "name": "python",
   "nbconvert_exporter": "python",
   "pygments_lexer": "ipython3",
   "version": "3.6.4"
  }
 },
 "nbformat": 4,
 "nbformat_minor": 2
}

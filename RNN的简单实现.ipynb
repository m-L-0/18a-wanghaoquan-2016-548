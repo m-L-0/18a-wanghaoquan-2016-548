{
 "cells": [
  {
   "cell_type": "markdown",
   "metadata": {},
   "source": [
    "RNN的简单实现\n"
   ]
  },
  {
   "cell_type": "code",
   "execution_count": 4,
   "metadata": {},
   "outputs": [],
   "source": [
    "import os\n",
    "import numpy as np\n",
    "import tensorflow as tf"
   ]
  },
  {
   "cell_type": "code",
   "execution_count": 5,
   "metadata": {},
   "outputs": [],
   "source": [
    "n_inputs = 3\n",
    "n_units = 5\n"
   ]
  },
  {
   "cell_type": "code",
   "execution_count": 7,
   "metadata": {},
   "outputs": [],
   "source": [
    "x0 = tf.placeholder(tf.float32,[None,n_inputs])\n",
    "x1 = tf.placeholder(tf.float32,[None,n_inputs])"
   ]
  },
  {
   "cell_type": "code",
   "execution_count": 14,
   "metadata": {},
   "outputs": [],
   "source": [
    "Wx = tf.Variable(tf.random_normal([n_inputs,n_units],dtype=tf.float32),name='Wx')\n",
    "Wh = tf.Variable(tf.random_normal([n_units,n_units],dtype=tf.float32),name='Wh')\n",
    "b = tf.Variable(tf.zeros([n_units,],dtype=tf.float32),name='b')\n",
    "\n",
    "h0 = tf.tanh(tf.matmul(x0,Wx) + b)\n",
    "h1 = tf.tanh(tf.matmul(x1,Wx) + tf.matmul(h0,Wh) + b)\n",
    "\n",
    "init = tf.global_variables_initializer()\n",
    "\n",
    "x0_batch = np.array([[0,1,2],[3,4,5],[6,7,8],[9,0,5]])\n",
    "x1_batch = np.array([[0,1,0],[9,8,7],[6,5,4],[3,2,1]])"
   ]
  },
  {
   "cell_type": "code",
   "execution_count": 15,
   "metadata": {},
   "outputs": [
    {
     "name": "stdout",
     "output_type": "stream",
     "text": [
      "the output of h0_val is\n",
      "[[-0.49205106  0.9896048  -0.9256854   0.9986742  -0.94364953]\n",
      " [ 0.04766949 -0.8186476  -0.99956566  0.99971724 -0.99960726]\n",
      " [ 0.56092024 -0.99989605 -0.9999977   0.99993974 -0.99999726]\n",
      " [-0.06303429 -1.         -0.9999308  -0.99986166 -1.        ]]\n",
      "the output of h1_val is \n",
      "[[-0.998887   -0.9992335   0.6414366   0.92284864  0.06409429]\n",
      " [ 0.8844261  -1.         -0.99996793 -0.8448331  -0.9999883 ]\n",
      " [ 0.4508441  -1.         -0.99457175 -0.98451877 -0.9973781 ]\n",
      " [-0.05041267 -0.9993623  -0.999677   -0.99914885  0.94515145]]\n"
     ]
    }
   ],
   "source": [
    "with tf.Session() as sess:\n",
    "    sess.run(init)\n",
    "    h0_val, h1_val = sess.run([h0, h1], feed_dict={x0: x0_batch, x1: x1_batch})\n",
    "print('the output of h0_val is')\n",
    "print(h0_val)\n",
    "                               \n",
    "print('the output of h1_val is ')\n",
    "print(h1_val)"
   ]
  },
  {
   "cell_type": "code",
   "execution_count": null,
   "metadata": {},
   "outputs": [],
   "source": []
  }
 ],
 "metadata": {
  "kernelspec": {
   "display_name": "Python 3",
   "language": "python",
   "name": "python3"
  },
  "language_info": {
   "codemirror_mode": {
    "name": "ipython",
    "version": 3
   },
   "file_extension": ".py",
   "mimetype": "text/x-python",
   "name": "python",
   "nbconvert_exporter": "python",
   "pygments_lexer": "ipython3",
   "version": "3.6.4"
  }
 },
 "nbformat": 4,
 "nbformat_minor": 2
}

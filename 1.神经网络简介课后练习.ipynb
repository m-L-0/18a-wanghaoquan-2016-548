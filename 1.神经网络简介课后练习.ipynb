{
 "cells": [
  {
   "cell_type": "code",
   "execution_count": null,
   "metadata": {},
   "outputs": [],
   "source": [
    "# 练习\n",
    "\n",
    "1. 判断题\n",
    "    * [√] 互连神经元的连接强度，即突触权值，用于存储获取的知识。\n",
    "    * [ ×] 阶跃函数输出 “0” 时表示神经元兴奋。\n",
    "    * [√] 循环神经网络是一种递归神经网络。\n",
    "    * [√] 强化学习是无教师学习。\n",
    "    * [× ] sgn函数是一种S型函数（Sigmoid函数）\n",
    "    * [× ] 训练好的神经网络去除一个神经元，整个神经网络就无法工作。\n",
    "    * [× ] 神经元的激活函数不能是线性函数。\n",
    "    * [√] 使用神经网络进行模式分类可以得到分类概率。\n",
    "    * [ ×] M-P模型是一种单层前馈神经网络模型。\n",
    "    * [× ] 神经网络擅长处理计算机视觉任务，所以一切计算机视觉问题使用神经网络解决都是最好的。\n",
    "    \n",
    "2. 选择题\n",
    "    * 神经网络的基本要素包括（ ABD ）\n",
    "    \n",
    "    A. 突触 \n",
    "    \n",
    "    B. 加法器\n",
    "    \n",
    "    C. S型函数             \n",
    "    \n",
    "    D. 激活函数\n",
    "        \n",
    "    * 神经网络的性质与能力中不包括（  D  ）\n",
    "    \n",
    "    A. 容错性\n",
    "    \n",
    "    B. 超大规模集成实现\n",
    "    \n",
    "    C. 自适应性\n",
    "    \n",
    "    D. 确定性\n",
    "    \n",
    "    * 关于监督学习的理解错误的是（  AC ）\n",
    "    \n",
    "    A. 神经网络无法在没有标签的数据中学习知识。\n",
    "    \n",
    "    B. 监督学习也被称为有教师学习。\n",
    "    \n",
    "    C. 强化学习是一种监督学习。\n",
    "    \n",
    "    D. 监督学习是利用带有标签的数据训练模型使模型尽量输出与标记一致的结果。\n",
    "    \n",
    "    * 以下哪些模型不属于神经网络模型（  B  ）\n",
    "    \n",
    "    A. RBF网络\n",
    "    \n",
    "    B. SVM\n",
    "    \n",
    "    C. RNN\n",
    "    \n",
    "    D. SOM网络\n",
    "    \n",
    "3. 编写程序\n",
    "    * 在Python环境下使用Numpy编写Sgn、Logistic激活函数。"
   ]
  },
  {
   "cell_type": "code",
   "execution_count": 2,
   "metadata": {},
   "outputs": [],
   "source": [
    "import numpy as np\n",
    "\n",
    "def sgn(x):\n",
    "    if x >= 0:\n",
    "        return 1\n",
    "    else:\n",
    "        return 0\n",
    "    \n",
    "\n",
    "def logistic(x):\n",
    "    return 1. / (1. + np.exp(-x))"
   ]
  },
  {
   "cell_type": "code",
   "execution_count": 3,
   "metadata": {},
   "outputs": [
    {
     "data": {
      "text/plain": [
       "1"
      ]
     },
     "execution_count": 3,
     "metadata": {},
     "output_type": "execute_result"
    }
   ],
   "source": [
    "sgn(2)"
   ]
  },
  {
   "cell_type": "code",
   "execution_count": 4,
   "metadata": {},
   "outputs": [
    {
     "data": {
      "text/plain": [
       "0.8807970779778823"
      ]
     },
     "execution_count": 4,
     "metadata": {},
     "output_type": "execute_result"
    }
   ],
   "source": [
    "logistic(2)"
   ]
  },
  {
   "cell_type": "code",
   "execution_count": null,
   "metadata": {},
   "outputs": [],
   "source": []
  }
 ],
 "metadata": {
  "kernelspec": {
   "display_name": "Python 3",
   "language": "python",
   "name": "python3"
  },
  "language_info": {
   "codemirror_mode": {
    "name": "ipython",
    "version": 3
   },
   "file_extension": ".py",
   "mimetype": "text/x-python",
   "name": "python",
   "nbconvert_exporter": "python",
   "pygments_lexer": "ipython3",
   "version": "3.6.4"
  }
 },
 "nbformat": 4,
 "nbformat_minor": 2
}

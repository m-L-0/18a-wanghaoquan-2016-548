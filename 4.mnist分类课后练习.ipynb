{
 "cells": [
  {
   "cell_type": "code",
   "execution_count": 2,
   "metadata": {},
   "outputs": [
    {
     "name": "stderr",
     "output_type": "stream",
     "text": [
      "C:\\Users\\abc\\Anaconda3\\lib\\site-packages\\h5py\\__init__.py:36: FutureWarning: Conversion of the second argument of issubdtype from `float` to `np.floating` is deprecated. In future, it will be treated as `np.float64 == np.dtype(float).type`.\n",
      "  from ._conv import register_converters as _register_converters\n"
     ]
    }
   ],
   "source": [
    "%matplotlib inline\n",
    "\n",
    "import numpy as np \n",
    "from PIL import Image\n",
    "from matplotlib import pyplot as plt\n",
    "import tensorflow as tf\n",
    "from tensorflow.examples.tutorials.mnist import input_data"
   ]
  },
  {
   "cell_type": "code",
   "execution_count": 3,
   "metadata": {},
   "outputs": [
    {
     "name": "stdout",
     "output_type": "stream",
     "text": [
      "WARNING:tensorflow:From <ipython-input-3-2c2899de08cb>:1: read_data_sets (from tensorflow.contrib.learn.python.learn.datasets.mnist) is deprecated and will be removed in a future version.\n",
      "Instructions for updating:\n",
      "Please use alternatives such as official/mnist/dataset.py from tensorflow/models.\n",
      "WARNING:tensorflow:From C:\\Users\\abc\\Anaconda3\\lib\\site-packages\\tensorflow\\contrib\\learn\\python\\learn\\datasets\\mnist.py:260: maybe_download (from tensorflow.contrib.learn.python.learn.datasets.base) is deprecated and will be removed in a future version.\n",
      "Instructions for updating:\n",
      "Please write your own downloading logic.\n",
      "WARNING:tensorflow:From C:\\Users\\abc\\Anaconda3\\lib\\site-packages\\tensorflow\\contrib\\learn\\python\\learn\\datasets\\mnist.py:262: extract_images (from tensorflow.contrib.learn.python.learn.datasets.mnist) is deprecated and will be removed in a future version.\n",
      "Instructions for updating:\n",
      "Please use tf.data to implement this functionality.\n",
      "Extracting F:/日常文档/大三下/深度学习/MNIST_data\\train-images-idx3-ubyte.gz\n",
      "WARNING:tensorflow:From C:\\Users\\abc\\Anaconda3\\lib\\site-packages\\tensorflow\\contrib\\learn\\python\\learn\\datasets\\mnist.py:267: extract_labels (from tensorflow.contrib.learn.python.learn.datasets.mnist) is deprecated and will be removed in a future version.\n",
      "Instructions for updating:\n",
      "Please use tf.data to implement this functionality.\n",
      "Extracting F:/日常文档/大三下/深度学习/MNIST_data\\train-labels-idx1-ubyte.gz\n",
      "WARNING:tensorflow:From C:\\Users\\abc\\Anaconda3\\lib\\site-packages\\tensorflow\\contrib\\learn\\python\\learn\\datasets\\mnist.py:110: dense_to_one_hot (from tensorflow.contrib.learn.python.learn.datasets.mnist) is deprecated and will be removed in a future version.\n",
      "Instructions for updating:\n",
      "Please use tf.one_hot on tensors.\n",
      "Extracting F:/日常文档/大三下/深度学习/MNIST_data\\t10k-images-idx3-ubyte.gz\n",
      "Extracting F:/日常文档/大三下/深度学习/MNIST_data\\t10k-labels-idx1-ubyte.gz\n",
      "WARNING:tensorflow:From C:\\Users\\abc\\Anaconda3\\lib\\site-packages\\tensorflow\\contrib\\learn\\python\\learn\\datasets\\mnist.py:290: DataSet.__init__ (from tensorflow.contrib.learn.python.learn.datasets.mnist) is deprecated and will be removed in a future version.\n",
      "Instructions for updating:\n",
      "Please use alternatives such as official/mnist/dataset.py from tensorflow/models.\n"
     ]
    }
   ],
   "source": [
    "#下载MNIST数据集并生成DataSet对象\n",
    "#使用OneHot编码处理标记\n",
    "mnist = input_data.read_data_sets('F:/日常文档/大三下/深度学习/MNIST_data',one_hot=True)"
   ]
  },
  {
   "cell_type": "code",
   "execution_count": 4,
   "metadata": {},
   "outputs": [
    {
     "data": {
      "text/plain": [
       "(55000, 784)"
      ]
     },
     "execution_count": 4,
     "metadata": {},
     "output_type": "execute_result"
    }
   ],
   "source": [
    "mnist.train.images.shape"
   ]
  },
  {
   "cell_type": "code",
   "execution_count": 5,
   "metadata": {},
   "outputs": [
    {
     "data": {
      "text/plain": [
       "(55000, 10)"
      ]
     },
     "execution_count": 5,
     "metadata": {},
     "output_type": "execute_result"
    }
   ],
   "source": [
    "mnist.train.labels.shape"
   ]
  },
  {
   "cell_type": "code",
   "execution_count": 6,
   "metadata": {},
   "outputs": [
    {
     "data": {
      "text/plain": [
       "(10000, 784)"
      ]
     },
     "execution_count": 6,
     "metadata": {},
     "output_type": "execute_result"
    }
   ],
   "source": [
    "mnist.test.images.shape"
   ]
  },
  {
   "cell_type": "code",
   "execution_count": 7,
   "metadata": {},
   "outputs": [
    {
     "data": {
      "text/plain": [
       "(10000, 10)"
      ]
     },
     "execution_count": 7,
     "metadata": {},
     "output_type": "execute_result"
    }
   ],
   "source": [
    "mnist.test.labels.shape"
   ]
  },
  {
   "cell_type": "code",
   "execution_count": 8,
   "metadata": {},
   "outputs": [
    {
     "data": {
      "text/plain": [
       "<matplotlib.image.AxesImage at 0x19fc58af860>"
      ]
     },
     "execution_count": 8,
     "metadata": {},
     "output_type": "execute_result"
    },
    {
     "data": {
      "image/png": "[encoded data removed]",
      "text/plain": [
       "<matplotlib.figure.Figure at 0x19fc57d7668>"
      ]
     },
     "metadata": {},
     "output_type": "display_data"
    }
   ],
   "source": [
    "plt.imshow(Image.fromarray((mnist.train.images[11]*255).reshape([28,28])))"
   ]
  },
  {
   "cell_type": "code",
   "execution_count": 9,
   "metadata": {},
   "outputs": [
    {
     "data": {
      "text/plain": [
       "array([0., 0., 0., 1., 0., 0., 0., 0., 0., 0.])"
      ]
     },
     "execution_count": 9,
     "metadata": {},
     "output_type": "execute_result"
    }
   ],
   "source": [
    "mnist.train.labels[11]"
   ]
  },
  {
   "cell_type": "code",
   "execution_count": 13,
   "metadata": {},
   "outputs": [
    {
     "name": "stdout",
     "output_type": "stream",
     "text": [
      "step     0,loss 31.1019, acc 0.1111\n",
      "step   500,loss 19.4730, acc 0.4788\n",
      "step  1000,loss 18.5386, acc 0.5924\n",
      "step  1500,loss 14.4008, acc 0.6850\n",
      "step  2000,loss 11.5863, acc 0.7351\n",
      "step  2500,loss 4.4961, acc 0.7998\n",
      "step  3000,loss 2.7023, acc 0.8423\n",
      "step  3500,loss 2.5011, acc 0.8538\n",
      "step  4000,loss 3.2898, acc 0.8636\n",
      "step  4500,loss 2.7894, acc 0.8691\n",
      "step  5000,loss 4.9575, acc 0.8748\n",
      "step  5500,loss 1.5677, acc 0.8785\n",
      "step  6000,loss 1.3145, acc 0.8843\n",
      "step  6500,loss 3.9723, acc 0.8881\n",
      "step  7000,loss 1.4229, acc 0.8878\n",
      "step  7500,loss 0.1226, acc 0.8924\n",
      "step  8000,loss 2.0991, acc 0.8932\n",
      "step  8500,loss 1.2232, acc 0.8958\n",
      "step  9000,loss 2.7635, acc 0.8994\n",
      "step  9500,loss 1.2259, acc 0.8989\n",
      "step 10000,loss 5.3794, acc 0.9001\n",
      "step 10500,loss 2.2653, acc 0.9049\n",
      "step 11000,loss 1.8009, acc 0.9015\n",
      "step 11500,loss 0.7925, acc 0.9079\n",
      "step 12000,loss 2.2734, acc 0.9082\n",
      "step 12500,loss 2.8951, acc 0.9077\n",
      "step 13000,loss 1.1428, acc 0.9104\n",
      "step 13500,loss 2.9132, acc 0.9097\n",
      "step 14000,loss 0.9247, acc 0.9125\n",
      "step 14500,loss 0.1196, acc 0.9112\n",
      "step 15000,loss 1.1474, acc 0.9120\n",
      "step 15500,loss 0.6828, acc 0.9115\n",
      "step 16000,loss 2.9076, acc 0.9168\n",
      "step 16500,loss 0.2331, acc 0.9131\n",
      "step 17000,loss 2.1300, acc 0.9092\n",
      "step 17500,loss 3.2722, acc 0.9158\n",
      "step 18000,loss 0.2554, acc 0.9152\n",
      "step 18500,loss 0.8458, acc 0.9136\n",
      "step 19000,loss 0.0938, acc 0.9136\n",
      "step 19500,loss 0.2136, acc 0.9151\n"
     ]
    }
   ],
   "source": [
    "with tf.Graph().as_default() as g:\n",
    "    #输入、标记占位符\n",
    "    inputs = tf.placeholder(shape=[None,784],dtype=tf.float32)\n",
    "    labels = tf.placeholder(shape=[None,10],dtype=tf.float32)\n",
    "    #创建128个隐藏层神经元参数\n",
    "    hidden_weight = tf.Variable(tf.random_normal([784,128]),name='hidden_weight')\n",
    "    hidden_bias = tf.Variable(tf.zeros([128, ]),name='hidden_bias')\n",
    "     #隐藏层前向传播\n",
    "    hidden_output = tf.nn.relu(tf.matmul(inputs,hidden_weight) + hidden_bias)\n",
    "    \n",
    "    #创建输出层10个神经元参数\n",
    "    output_weight = tf.Variable(tf.random_normal([128,10]),name='output_weight')\n",
    "    output_bias = tf.Variable(tf.zeros([10, ]),name='output_bias')\n",
    "    \n",
    "    #输出层前向传播\n",
    "    logits = tf.matmul(hidden_output,output_weight) + output_bias\n",
    "    output = tf.nn.softmax(logits)  #[None,10]\n",
    "    \n",
    "    #代价函数\n",
    "    loss =tf.reduce_mean(\n",
    "        -1*tf.reduce_sum(\n",
    "            labels * tf.log(output + 1e-17),\n",
    "            axis = 1))\n",
    "    \n",
    "    #正确率\n",
    "    acc =tf.reduce_mean(\n",
    "        tf.cast(\n",
    "            tf.equal(\n",
    "                tf.argmax(output,axis=1),\n",
    "                tf.argmax(labels,axis=1)),\n",
    "                tf.float32))\n",
    "with tf.Session(graph=g) as sess:\n",
    "    #定义梯度下降法优化器\n",
    "    optim = tf.train.GradientDescentOptimizer(learning_rate=0.01)\n",
    "    train_op = optim.minimize(loss)\n",
    "    sess.run(tf.global_variables_initializer())\n",
    "    \n",
    "    #训练模型\n",
    "    for step in range(20000):\n",
    "        batch_images,batch_labels = mnist.train.next_batch(32)\n",
    "        res_loss,_ = sess.run([loss,train_op],feed_dict={\n",
    "            inputs:batch_images,\n",
    "            labels:batch_labels\n",
    "        })\n",
    "        \n",
    "        #输出代价并验证模型\n",
    "        if step % 500 == 0:\n",
    "            accs = []\n",
    "            for test_step in range(10000 // 32):\n",
    "                batch_images,batch_labels = mnist.test.next_batch(32)\n",
    "                res_acc = sess.run(acc,feed_dict={\n",
    "                    inputs:batch_images,\n",
    "                    labels:batch_labels\n",
    "                })\n",
    "                accs.append(res_acc)\n",
    "            accs = np.mean(accs)\n",
    "            print('step %5d,loss %2.4f, acc %.4f' %(step,res_loss,accs))"
   ]
  },
  {
   "cell_type": "code",
   "execution_count": null,
   "metadata": {},
   "outputs": [],
   "source": []
  },
  {
   "cell_type": "code",
   "execution_count": null,
   "metadata": {},
   "outputs": [],
   "source": []
  },
  {
   "cell_type": "code",
   "execution_count": null,
   "metadata": {},
   "outputs": [],
   "source": []
  },
  {
   "cell_type": "code",
   "execution_count": null,
   "metadata": {},
   "outputs": [],
   "source": []
  },
  {
   "cell_type": "code",
   "execution_count": null,
   "metadata": {},
   "outputs": [],
   "source": []
  }
 ],
 "metadata": {
  "kernelspec": {
   "display_name": "Python 3",
   "language": "python",
   "name": "python3"
  },
  "language_info": {
   "codemirror_mode": {
    "name": "ipython",
    "version": 3
   },
   "file_extension": ".py",
   "mimetype": "text/x-python",
   "name": "python",
   "nbconvert_exporter": "python",
   "pygments_lexer": "ipython3",
   "version": "3.6.4"
  }
 },
 "nbformat": 4,
 "nbformat_minor": 2
}

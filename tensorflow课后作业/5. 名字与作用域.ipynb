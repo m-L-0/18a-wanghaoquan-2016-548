{
 "cells": [
  {
   "cell_type": "markdown",
   "metadata": {},
   "source": [
    "(1)name_scope与variable_score的作用以及异同点\n",
    "\n",
    "相同点： 可以为其作用域中节点的name添加一个或多个前缀，并使用这些前缀作为划分内部与外部op范围的标记\n",
    "\n",
    "不同点：name_scope可以给Op的name加前缀，但不包括tf.get_variable()创建的变量。"
   ]
  },
  {
   "cell_type": "code",
   "execution_count": 11,
   "metadata": {},
   "outputs": [
    {
     "name": "stdout",
     "output_type": "stream",
     "text": [
      "[0.3393955]\n"
     ]
    }
   ],
   "source": [
    "#(2)\n",
    "import tensorflow as tf\n",
    "X=tf.placeholder(tf.float32)\n",
    "\n",
    "with tf.variable_scope('abc',reuse=tf.AUTO_REUSE) as scope:\n",
    "    w=tf.get_variable('w',initializer=tf.random_normal_initializer(mean=0.0, stddev=1.0, seed=None, dtype=tf.float32),shape=[1],dtype=tf.float32)\n",
    "    b=tf.get_variable('b',initializer=tf.random_normal_initializer(mean=0.0, stddev=1.0, seed=None, dtype=tf.float32),shape=[1],dtype=tf.float32)\n",
    "    yp=tf.nn.sigmoid(tf.add(tf.multiply(X,tf.get_variable('w')),tf.get_variable('b')))\n",
    "\n",
    "with tf.Session() as sess:\n",
    "    sess.run(tf.global_variables_initializer())\n",
    "    print(sess.run(yp,feed_dict={X:1.5}))"
   ]
  },
  {
   "cell_type": "code",
   "execution_count": null,
   "metadata": {},
   "outputs": [],
   "source": []
  },
  {
   "cell_type": "code",
   "execution_count": null,
   "metadata": {},
   "outputs": [],
   "source": []
  },
  {
   "cell_type": "code",
   "execution_count": null,
   "metadata": {},
   "outputs": [],
   "source": []
  },
  {
   "cell_type": "code",
   "execution_count": null,
   "metadata": {},
   "outputs": [],
   "source": []
  }
 ],
 "metadata": {
  "kernelspec": {
   "display_name": "Python 3",
   "language": "python",
   "name": "python3"
  },
  "language_info": {
   "codemirror_mode": {
    "name": "ipython",
    "version": 3
   },
   "file_extension": ".py",
   "mimetype": "text/x-python",
   "name": "python",
   "nbconvert_exporter": "python",
   "pygments_lexer": "ipython3",
   "version": "3.6.5"
  }
 },
 "nbformat": 4,
 "nbformat_minor": 2
}

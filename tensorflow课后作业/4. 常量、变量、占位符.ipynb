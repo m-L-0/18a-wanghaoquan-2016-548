{
 "cells": [
  {
   "cell_type": "code",
   "execution_count": null,
   "metadata": {},
   "outputs": [],
   "source": [
    "(1) "
   ]
  },
  {
   "cell_type": "code",
   "execution_count": 9,
   "metadata": {},
   "outputs": [
    {
     "name": "stdout",
     "output_type": "stream",
     "text": [
      "24.869999\n"
     ]
    }
   ],
   "source": [
    "(2)\n",
    "import tensorflow as tf\n",
    "with tf.Graph().as_default() as g2:\n",
    "    h1=tf.Variable(2.5)\n",
    "    h2=tf.Variable(3.6)\n",
    "    b=tf.Variable(1.0)\n",
    "    x=tf.placeholder(dtype=tf.float32,shape=[])\n",
    "    y=tf.placeholder(dtype=tf.float32,shape=[])\n",
    "    z=tf.add(tf.add(tf.multiply(h1,x),tf.multiply(h2,y)),b)\n",
    "with tf.Session(graph= g2) as sess2:\n",
    "    #sess2.run(tf.variables_initializer([w1, w2,b]))\n",
    "    #print(w1,w2)\n",
    "    sess2.run(tf.global_variables_initializer())\n",
    "    print(sess2.run(z,feed_dict={x:3.5,y:4.2}))"
   ]
  },
  {
   "cell_type": "code",
   "execution_count": null,
   "metadata": {},
   "outputs": [],
   "source": []
  },
  {
   "cell_type": "code",
   "execution_count": null,
   "metadata": {},
   "outputs": [],
   "source": []
  },
  {
   "cell_type": "code",
   "execution_count": null,
   "metadata": {},
   "outputs": [],
   "source": []
  },
  {
   "cell_type": "code",
   "execution_count": null,
   "metadata": {},
   "outputs": [],
   "source": []
  },
  {
   "cell_type": "code",
   "execution_count": null,
   "metadata": {},
   "outputs": [],
   "source": []
  }
 ],
 "metadata": {
  "kernelspec": {
   "display_name": "Python 3",
   "language": "python",
   "name": "python3"
  },
  "language_info": {
   "codemirror_mode": {
    "name": "ipython",
    "version": 3
   },
   "file_extension": ".py",
   "mimetype": "text/x-python",
   "name": "python",
   "nbconvert_exporter": "python",
   "pygments_lexer": "ipython3",
   "version": "3.6.5"
  }
 },
 "nbformat": 4,
 "nbformat_minor": 2
}

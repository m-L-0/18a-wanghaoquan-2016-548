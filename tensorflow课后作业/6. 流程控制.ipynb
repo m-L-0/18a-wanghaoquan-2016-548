{
 "cells": [
  {
   "cell_type": "code",
   "execution_count": 12,
   "metadata": {},
   "outputs": [],
   "source": [
    "import tensorflow as tf"
   ]
  },
  {
   "cell_type": "markdown",
   "metadata": {},
   "source": [
    "(1)设计一个函数，要求输入两个`shape、dtype`一样的张量，输出一个同样`shape、dtype`的张量，并且输出的张量中的元素的每一个值都是输入的两个张量中对应元素最大的。即模拟`tf.maximum`的功能，但不能直接使用此函数。"
   ]
  },
  {
   "cell_type": "code",
   "execution_count": 13,
   "metadata": {},
   "outputs": [
    {
     "name": "stdout",
     "output_type": "stream",
     "text": [
      "[4 7 3]\n"
     ]
    }
   ],
   "source": [
    "def Maxnum(ts1,ts2):\n",
    "    res=tf.stack([ts1,ts2],axis=0)\n",
    "    tmp=tf.reduce_max(res,reduction_indices=0)\n",
    "    return tmp\n",
    "a=tf.constant([1,7,3])\n",
    "b=tf.constant([4,5,2])\n",
    "ans=Maxnum(a,b)\n",
    "with tf.Session() as sess:\n",
    "    print(sess.run(ans))"
   ]
  },
  {
   "cell_type": "markdown",
   "metadata": {},
   "source": [
    "(2)了解`tf.minimum`、`tf.maximum`的用法。"
   ]
  },
  {
   "cell_type": "code",
   "execution_count": 14,
   "metadata": {},
   "outputs": [
    {
     "name": "stdout",
     "output_type": "stream",
     "text": [
      "[4 7 3]\n",
      "[1 5 2]\n"
     ]
    }
   ],
   "source": [
    "c=tf.maximum(a,b)\n",
    "d=tf.minimum(a,b)\n",
    "with tf.Session() as sess:\n",
    "    print(sess.run(c))\n",
    "    print(sess.run(d))"
   ]
  },
  {
   "cell_type": "markdown",
   "metadata": {},
   "source": [
    "(3)了解`TensorArray`的基本用法，并尝试配合`tf.while_loop`配合使用"
   ]
  },
  {
   "cell_type": "code",
   "execution_count": 15,
   "metadata": {},
   "outputs": [
    {
     "name": "stdout",
     "output_type": "stream",
     "text": [
      "[[1.2 3.4]\n",
      " [1.2 3.4]\n",
      " [1.2 3.4]\n",
      " [1.2 3.4]\n",
      " [1.2 3.4]]\n"
     ]
    }
   ],
   "source": [
    "def cond(idx,opt):\n",
    "    return tf.less(idx,5)\n",
    "def body(idx,opt):\n",
    "    opt=opt.write(idx,[1.2,3.4])\n",
    "    idx+=1\n",
    "    return idx,opt\n",
    "\n",
    "opt=tf.TensorArray(dtype=tf.float32,size=1,dynamic_size=True)\n",
    "idx=tf.constant(0)\n",
    "t,res=tf.while_loop(cond,body,[idx,opt])\n",
    "with tf.Session() as sess:\n",
    "    print(sess.run(res.stack()))"
   ]
  },
  {
   "cell_type": "code",
   "execution_count": null,
   "metadata": {},
   "outputs": [],
   "source": []
  }
 ],
 "metadata": {
  "kernelspec": {
   "display_name": "Python 3",
   "language": "python",
   "name": "python3"
  },
  "language_info": {
   "codemirror_mode": {
    "name": "ipython",
    "version": 3
   },
   "file_extension": ".py",
   "mimetype": "text/x-python",
   "name": "python",
   "nbconvert_exporter": "python",
   "pygments_lexer": "ipython3",
   "version": "3.6.5"
  }
 },
 "nbformat": 4,
 "nbformat_minor": 2
}
